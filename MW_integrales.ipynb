{
 "cells": [
  {
   "cell_type": "code",
   "execution_count": 1,
   "metadata": {},
   "outputs": [],
   "source": [
    "import numpy as  np\n",
    "from scipy import integrate\n",
    "from scipy.special import lambertw\n",
    "import CG as CG\n",
    "from pycuba import Vegas\n",
    "import ctypes"
   ]
  },
  {
   "cell_type": "code",
   "execution_count": 2,
   "metadata": {},
   "outputs": [],
   "source": [
    "def der_rho_mono(psi): #derivada de rho respecto del potencial dos veces\n",
    "    if psi==0:\n",
    "        func=0\n",
    "    else:\n",
    "        aa=lambertw(-psi*np.exp(-psi),k=-1)\n",
    "        func=-psi*(4*psi+(3+6*psi)*aa+6*aa**2)/((1+aa)**3*aa**2)\n",
    "    if np.imag(func)!=0:\n",
    "        print('hay un problema con la parte imaginaria de la funcion en la derivada')\n",
    "        print(psi,func)\n",
    "    else:\n",
    "        func=np.real(func)\n",
    "    return func\n",
    "def integrando_fe(psi,ener): #integrando para f(e) la energía es la relativa, falta multiplicar por n_0\n",
    "    drho=der_rho_mono(psi)\n",
    "    cte=1/limite_energia**1.5\n",
    "    func=drho*cte/(np.sqrt(8)*np.pi**2*np.sqrt(ener-psi))\n",
    "    return func"
   ]
  },
  {
   "cell_type": "code",
   "execution_count": 3,
   "metadata": {},
   "outputs": [],
   "source": [
    "def radio_plum(ms): #para plummer Erkal 1606.04946\n",
    "    radio=1.62*np.sqrt(ms/1e8) #kpc\n",
    "    return radio\n",
    "def radio_her(ms): #para Hernquist Erkal 1606.04946\n",
    "    radio=1.05*np.sqrt(ms/1e8) #kpc\n",
    "    return radio"
   ]
  },
  {
   "cell_type": "code",
   "execution_count": 4,
   "metadata": {},
   "outputs": [],
   "source": [
    "def nfw_MW(r,theta,phi): #da la funcion que debe entrar en el cálculo para el volumen del NSTAR \n",
    "    rcg2=cg_p[0]**2+cg_p[1]**2+cg_p[2]**2\n",
    "    x=r*np.cos(phi)*np.sin(theta)\n",
    "    y=r*np.sin(phi)*np.sin(theta)\n",
    "    z=r*np.cos(theta)\n",
    "    dd=rcg2+r**2-2*(x*cg_p[0]+y*cg_p[1]+z*cg_p[2])\n",
    "    dd=np.sqrt(dd)/rmw\n",
    "    rho=1/(dd*(1+dd)**2)\n",
    "    func=rho*r**2*np.sin(theta)\n",
    "    return func\n",
    "\n",
    "def G1(r,theta,phi,v,thv,phiv,ms): # esta hace la integral en w y en psi\n",
    "    vx=v*np.cos(phiv)*np.sin(thv)\n",
    "    vy=v*np.sin(phiv)*np.sin(thv)\n",
    "    vz=v*np.cos(thv)\n",
    "    res_x=r*np.cos(phi)*np.sin(theta)-cg_p[0]\n",
    "    res_y=r*np.sin(phi)*np.sin(theta)-cg_p[1]\n",
    "    res_z=r*np.cos(theta)-cg_p[2]\n",
    "    res=res_x**2+res_y**2+res_z**2\n",
    "    alpha=(v**2+vsh**2+2*vsh*vx)/(2*limite_energia)\n",
    "    y=-rmw*(1+lambertw(-alpha*np.exp(-alpha),k=-1)/alpha)\n",
    "    if np.imag(y)==0:\n",
    "        y=np.real(y)\n",
    "        prod=vx*res_x+vy*res_y+vz*res_z\n",
    "        radicando=prod**2+v**2*(y**2-res)\n",
    "        if radicando>=0:\n",
    "            w0p=(prod+np.sqrt(radicando))/v**2\n",
    "            w0m=(prod-np.sqrt(radicando))/v**2\n",
    "            #Hacer la integral\n",
    "            if (w0p>0)&(w0m>0):\n",
    "                f1=integrate.dblquad(integrando_nstar_w_psi,w0m,w0p,0,lambda w:rmw*np.log(1+np.sqrt(res+w**2*v**2-2*w*prod)/rmw)/np.sqrt(res+w**2*v**2-2*w*prod)-alpha,args=(r,theta,phi,v,thv,phiv,ms))\n",
    "                func=f1[0]\n",
    "            elif (w0p>0)&(w0m<0):\n",
    "                f1=integrate.dblquad(integrando_nstar_w_psi,0,w0p,0,lambda w:rmw*np.log(1+np.sqrt(res+w**2*v**2-2*w*prod)/rmw)/np.sqrt(res+w**2*v**2-2*w*prod)-alpha,args=(r,theta,phi,v,thv,phiv,ms))\n",
    "                func=f1[0]\n",
    "            elif (w0p<0)&(w0m<0):\n",
    "                func=0\n",
    "        else:\n",
    "            f1=integrate.dblquad(integrando_nstar_w_psi,0,np.infty,0,lambda w:rmw*np.log(1+np.sqrt(res+w**2*v**2-2*w*prod)/rmw)/np.sqrt(res+w**2*v**2-2*w*prod)-alpha,args=(r,theta,phi,v,thv,phiv,ms))\n",
    "            func=f1[0]\n",
    "    else:\n",
    "        func=0\n",
    "        print('Problemas con la parte compleja de la funci\\'on de Lambert en el NSTAR')\n",
    "    return func\n",
    "\n",
    "\n",
    "\n",
    "\n",
    "def integrando_nstar_w_psi(psi,w,r,theta,phi,v,thv,phiv,ms): # integrando para las integrales de w y psi\n",
    "    x=r*np.cos(phi)*np.sin(theta)\n",
    "    y=r*np.sin(phi)*np.sin(theta)\n",
    "    z=r*np.cos(theta)\n",
    "    vx=v*np.cos(phiv)*np.sin(thv)\n",
    "    vy=v*np.sin(phiv)*np.sin(thv)\n",
    "    vz=v*np.cos(thv)\n",
    "    dd=np.sqrt((x-cg_p[0]-vx*w)**2+(y-cg_p[1]-vy*w)**2+(z-cg_p[2]-vz*w)**2)\n",
    "    ener=rmw*np.log(1+dd/rmw)/dd-(v**2+vsh**2+2*vsh*vx)/(2*limite_energia)\n",
    "    if (ener>0)&(ener<1):\n",
    "        f0_mw=integrando_fe(psi,ener)*np.heaviside(psi,0)*np.heaviside(1-psi,0)\n",
    "    else:\n",
    "        f0_mw=0\n",
    "    rr=np.sqrt(r**2+w**2*v**2-2*w*(vx*x+vy*y+vz*z))\n",
    "    if perturbador=='Plummer': # OJO que ya están multiplicados por el 4 pi G\n",
    "        rs=radio_plum(ms)\n",
    "        densidad=3*rs**2/(rs**2+rr**2)**2.5 \n",
    "    elif perturbador=='NFW_expo':\n",
    "        densidad= np.exp(-(rr/rc_NFW)**4)/(rr*(rr+rs_NFW)**2*k_NFW)\n",
    "    elif perturbador=='Hernquist':\n",
    "        rb_Her=radio_her(ms)\n",
    "        densidad=2*rb_Her/(rr*(rb_Her+rr)**3*2)\n",
    "    func=f0_mw*ms*densidad*w*gn\n",
    "    return func"
   ]
  },
  {
   "cell_type": "markdown",
   "metadata": {},
   "source": [
    "### Constantes y parámetros de la MW"
   ]
  },
  {
   "cell_type": "code",
   "execution_count": 5,
   "metadata": {},
   "outputs": [
    {
     "name": "stdout",
     "output_type": "stream",
     "text": [
      "salida de CG\n",
      "velocidad del CM -288.0466074280818 km / s 120.56129658554741 km / s -35.1064378012592 km / s\n",
      "módulo de velocidad 314.22656835523867 km / s\n",
      "chequeo de velocidad con ángulos -288.0466074280818 120.56129658554741 -35.1064378012592\n",
      "-288.0466074280818 120.56129658554742 -35.10643780125919\n",
      "chequeo primer ángulos (<Quantity 314.22656836>, <Latitude -0.11195707 rad>, <Longitude 2.74519968 rad>)\n",
      "314.22656835523867 -0.11195706644012555 2.7451996786521486\n",
      "chequeo primer rotación 314.22656835523867 2.842170943040401e-14 0.0\n",
      "posicion de CG [-8.948174238975904, 23.472574131574447, 43.50179588793219]\n",
      "velocidad del centro de masa 314.22656835523867\n"
     ]
    }
   ],
   "source": [
    "vsh,cg_p=CG.CG_datos(9)\n",
    "print('posicion de CG',cg_p)\n",
    "print('velocidad del centro de masa',vsh)"
   ]
  },
  {
   "cell_type": "code",
   "execution_count": 6,
   "metadata": {},
   "outputs": [
    {
     "name": "stdout",
     "output_type": "stream",
     "text": [
      "contante del potencial en km^2/s^2 2365828.5779461316\n",
      "energía limite en km^2/s^2 143383.55017855344\n",
      "volumen a tener en cuenta para la densidad en kpc^3 56631.40223054678\n"
     ]
    }
   ],
   "source": [
    "# Constantes necesarias para el cálculo\n",
    "msun=1.989e30 #kg\n",
    "gn=6.672e-20*msun/3.0856e16 #km^2*kpc/s^2\n",
    "# sacado de vasiliev 2024\n",
    "mmw_NFW=1.29e12 # M_sun\n",
    "rc=500 #kpc\n",
    "rmw=16.5 #kpc\n",
    "f_mw=lambda r:r*np.exp(-(r/rc)**4)/(rmw+r)**2\n",
    "masa_mw=integrate.quad(f_mw,0,np.inf)[0] #adimensional\n",
    "rho_mw=mmw_NFW/(masa_mw*4*np.pi*rmw**3) # M_sun/kpc**3\n",
    "A_pot=4*np.pi*gn*rho_mw*rmw**3 # km**2*kpc/s**2\n",
    "print('contante del potencial en km^2/s^2',A_pot)\n",
    "limite_energia=4*np.pi*gn*rho_mw*rmw**2 # km^2/s^2\n",
    "print('energía limite en km^2/s^2',limite_energia)\n",
    "roi=100\n",
    "#vol=integrate.tplquad(nfw_MW,0,2*np.pi,0,np.pi,0,roi,epsabs=1e-30) # km^3\n",
    "#vol_densidad=vol[0]\n",
    "vol_densidad=56631.40223054678\n",
    "print('volumen a tener en cuenta para la densidad en kpc^3',vol_densidad)\n",
    "#volumen a tener en cuenta para la densidad en kpc^3 56631.40223054678 (56631.40223054678, 195.14573290489082)"
   ]
  },
  {
   "cell_type": "code",
   "execution_count": 7,
   "metadata": {},
   "outputs": [],
   "source": [
    "#elijo el modelo para el potencial del perturbador\n",
    "perturbador='Plummer'#'NFW_expo' 'Hernquist'"
   ]
  },
  {
   "cell_type": "code",
   "execution_count": 8,
   "metadata": {},
   "outputs": [
    {
     "name": "stdout",
     "output_type": "stream",
     "text": [
      "1.528574510913949\n"
     ]
    }
   ],
   "source": [
    "# si elijo el NFW_expo para el perturbador\n",
    "rc_NFW=roi*4 #kpc\n",
    "rs_NFW=roi/3 #kpc\n",
    "cte_NFW=lambda x: np.exp(-x**4)*x/(rs_NFW/rc_NFW+x)**2\n",
    "k_NFW=integrate.quad(cte_NFW,0,np.infty)[0]\n",
    "print(k_NFW)"
   ]
  },
  {
   "cell_type": "code",
   "execution_count": 9,
   "metadata": {},
   "outputs": [
    {
     "data": {
      "text/plain": [
       "1.4764666341493214e-13"
      ]
     },
     "execution_count": 9,
     "metadata": {},
     "output_type": "execute_result"
    }
   ],
   "source": [
    "G1(16,np.pi/3,np.pi/4,50,np.pi/24,np.pi/6,1e9)"
   ]
  },
  {
   "cell_type": "code",
   "execution_count": 10,
   "metadata": {},
   "outputs": [],
   "source": [
    "def v0(theta_v, phi_v, epsilon_l, v_s):\n",
    "    cos_phi_v = np.cos(phi_v)\n",
    "    sin_theta_v = np.sin(theta_v)\n",
    "    term1 = -cos_phi_v * sin_theta_v\n",
    "    term2_sqrt_arg = (cos_phi_v * sin_theta_v)**2 - 1 + 2 * epsilon_l / v_s**2\n",
    "\n",
    "    # check que el argumento de la raíz cuadrada sea no negativo\n",
    "    if term2_sqrt_arg < 0:\n",
    "        print(\"error\")\n",
    "\n",
    "    term2 = np.sqrt(term2_sqrt_arg)\n",
    "    return v_s * (term1 + term2) \n",
    "\n",
    "# epsilon_l correspond to the limite_energia y v_s to vsh, se implemento esta formula a continuacion:\n",
    "# vlim=vsh*(-np.cos(phiv)*np.sin(thv)+np.sqrt((np.cos(phiv)*np.sin(thv))**2-1+2*limite_energia/vsh**2))"
   ]
  },
  {
   "cell_type": "code",
   "execution_count": 11,
   "metadata": {},
   "outputs": [],
   "source": [
    "def integrand(ndim, x, ncomp, f, userdata):\n",
    "    # Desempaquetar variables de integración\n",
    "    y = np.array([x[i] for i in range(ndim.contents.value)])\n",
    "    jacobian = 1.0\n",
    "\n",
    "    # Mapear y calcular el jacobiano para cada variable\n",
    "    # r: de 0 a roi\n",
    "    y_r = y[0]\n",
    "    r = roi * y_r\n",
    "    jacobian *= roi\n",
    "\n",
    "    # theta: de 0 a pi\n",
    "    y_theta = y[1]\n",
    "    theta = np.pi * y_theta\n",
    "    jacobian *= np.pi\n",
    "\n",
    "    # phi: de 0 a 2*pi\n",
    "    y_phi = y[2]\n",
    "    phi = 2 * np.pi * y_phi\n",
    "    jacobian *= 2 * np.pi\n",
    "\n",
    "    # theta_v: de 0 a pi\n",
    "    y_theta_v = y[3]\n",
    "    theta_v = np.pi * y_theta_v\n",
    "    jacobian *= np.pi\n",
    "\n",
    "    # phi_v: de 0 a 2*pi\n",
    "    y_phi_v = y[4]\n",
    "    phi_v = 2 * np.pi * y_phi_v\n",
    "    jacobian *= 2 * np.pi\n",
    "\n",
    "    # Calcular v0 y verificar límites\n",
    "    v_max = v0(theta_v, phi_v, limite_energia, vsh)\n",
    "    if v_max <= 0:\n",
    "        f[0] = 0.0\n",
    "        return 0\n",
    "\n",
    "    # v: de 0 a v0(theta_v, phi_v)\n",
    "    y_v = y[5]\n",
    "    v = v_max * y_v\n",
    "    jacobian *= v_max\n",
    "\n",
    "    # Calcular el elemento de volumen\n",
    "    volume_element = (r**2) * np.sin(theta) * (v**2) * np.sin(theta_v)\n",
    "\n",
    "    # Obtener M_s del userdata\n",
    "    M_s = ctypes.cast(userdata, ctypes.POINTER(ctypes.py_object)).contents.value\n",
    "\n",
    "\n",
    "    # Calcular el integrando\n",
    "    integrand_value = volume_element * G1(r, theta, phi, v, theta_v, phi_v, M_s) * jacobian\n",
    "\n",
    "    f[0] = integrand_value\n",
    "    \n",
    "    return 0"
   ]
  },
  {
   "cell_type": "code",
   "execution_count": 24,
   "metadata": {},
   "outputs": [],
   "source": [
    "def compute_integral(M_s_value):\n",
    "    from ctypes import c_double\n",
    "    \n",
    "    res = Vegas(\n",
    "        integrand,\n",
    "        ndim=6,\n",
    "        epsrel=1e-2,  # Cambiar la tolerancia! \n",
    "        epsabs=1e-8,\n",
    "        maxeval=100000,# maximo numero de integraciones \n",
    "        verbose=0,     # regula la verbosidad\n",
    "        seed=0,\n",
    "        userdata=ctypes.cast(ctypes.pointer(ctypes.py_object(M_s_value)), ctypes.c_void_p)\n",
    "    )\n",
    "\n",
    "    integral_value = res['results'][0]['integral']\n",
    "    estimated_error = res['results'][0]['error']\n",
    "\n",
    "    return M_s_value, integral_value, estimated_error\n"
   ]
  },
  {
   "cell_type": "code",
   "execution_count": 25,
   "metadata": {},
   "outputs": [
    {
     "name": "stdout",
     "output_type": "stream",
     "text": [
      "13.0\n",
      "12.0\n",
      "11.0\n",
      "10.0\n",
      "9.0\n",
      "8.0\n",
      "8.0 0.6601657104847849 0.0795419277267794\n",
      "9.0 26.200132845024694 1.4420846554358182\n",
      "10.0 615.0844984722643 8.513285188744009\n",
      "11.0 3971.9465382149046 40.27092931614606\n",
      "12.0 5723.403464838611 56.078951398346035\n",
      "13.0 2890.6177917011187 27.262639268852908\n"
     ]
    }
   ],
   "source": [
    "from concurrent.futures import ProcessPoolExecutor, as_completed\n",
    "\n",
    "def parallel_compute(M_s_values, max_workers=8):\n",
    "    results = []\n",
    "    with ProcessPoolExecutor(max_workers=max_workers) as executor:\n",
    "        # Submit tasks to the executor\n",
    "        future_to_Ms = {executor.submit(compute_integral, M_s): M_s for M_s in M_s_values}\n",
    "\n",
    "        # Collect results as they complete\n",
    "        for future in as_completed(future_to_Ms):\n",
    "            M_s = future_to_Ms[future]\n",
    "            try:\n",
    "                M_s_value, integral, error = future.result()\n",
    "                results.append((M_s_value, integral, error))\n",
    "                print(np.log10(M_s))\n",
    "            except Exception as exc:\n",
    "                print(f\"M_s = {M_s:.2e} generated an exception: {exc}\")\n",
    "\n",
    "    # Sort results by M_s (if needed)\n",
    "    results.sort(key=lambda x: x[0])\n",
    "\n",
    "    return results\n",
    "\n",
    "\n",
    "mass_resolution = 6\n",
    "if __name__ == '__main__':\n",
    "    # Define the range of M_s values (logarithmic scale)\n",
    "    log_M_s_values = np.linspace(8, 13, num=mass_resolution)  # Ajustar 'num' a la resolucion en masa\n",
    "    M_s_values = 10 ** log_M_s_values\n",
    "\n",
    "    # computo en cada core\n",
    "    results = parallel_compute(M_s_values)\n",
    "\n",
    "    # resultado final\n",
    "    for M_s_value, integral, error in results:\n",
    "        print(np.log10(M_s_value), integral, error) \n",
    "        pass  \n",
    "\n",
    "#for M_s in M_s_values:\n",
    "#    print(np.log10(M_s))\n",
    "#    integral, error = compute_integral(M_s)\n",
    "#    results.append((M_s, integral, error))\n",
    "#print(f\"M_s = {M_s:.2e}, Integral = {integral:.6e}, Error = {error:.6e}\")"
   ]
  },
  {
   "cell_type": "code",
   "execution_count": 47,
   "metadata": {},
   "outputs": [
    {
     "data": {
      "image/png": "[encoded data removed]",
      "text/plain": [
       "<Figure size 640x480 with 1 Axes>"
      ]
     },
     "metadata": {},
     "output_type": "display_data"
    }
   ],
   "source": [
    "import matplotlib.pyplot as plt\n",
    "for M_s_value, integral, error in results:\n",
    "    plt.plot(np.log10(M_s_value), integral,  marker = 'o', markersize = 5)\n",
    "plt.show()"
   ]
  },
  {
   "cell_type": "code",
   "execution_count": 28,
   "metadata": {},
   "outputs": [
    {
     "data": {
      "text/plain": [
       "[(100000000.0, 0.6601657104847849, 0.0795419277267794),\n",
       " (1000000000.0, 26.200132845024694, 1.4420846554358182),\n",
       " (10000000000.0, 615.0844984722643, 8.513285188744009),\n",
       " (100000000000.0, 3971.9465382149046, 40.27092931614606),\n",
       " (1000000000000.0, 5723.403464838611, 56.078951398346035),\n",
       " (10000000000000.0, 2890.6177917011187, 27.262639268852908)]"
      ]
     },
     "execution_count": 28,
     "metadata": {},
     "output_type": "execute_result"
    }
   ],
   "source": [
    "results"
   ]
  },
  {
   "cell_type": "code",
   "execution_count": null,
   "metadata": {},
   "outputs": [],
   "source": [
    "?Vegas"
   ]
  },
  {
   "cell_type": "markdown",
   "metadata": {},
   "source": [
    "La integral que hay que hacer es\n",
    "$$ \\int_0^{roi} \\int_0^\\pi \\int_0^{2\\pi} \\int_0^\\pi \\int_0^{2\\pi}\\int_0^{v_0(\\theta_v,\\phi_v)} r^2 \\sin(\\theta) v^2 \\sin (\\theta_v) \n",
    "G1(r,\\theta,\\phi,v,\\theta_v,\\phi_v,M_s) {\\rm d}v \\, {\\rm d}\\phi_v \\, {\\rm d}\\theta_v \\, {\\rm d}\\phi \\, {\\rm d}\\theta \\, {\\rm d}r $$\n",
    "en función de la masa del subhalo que es $M_s$. \n",
    "\n",
    "Necesitaría esta integral para rangos de masa de $10^8 \\leq M_s \\leq 10^{13}$ en unidades de masas solares (en el código ms ya está en masas solares). Tal vez te convenga pasar a masas logartimicas, es decir hacer un grillado en $\\log_{10} M_s$ y hacer un barrido entre $8 \\leq  \\log_{10} M_s  \\leq 13$ por cuestiones numéricas.\n",
    "\n",
    "El límite para la velocidad es\n",
    "$$v_0(\\theta_v,\\phi_v)=v_s\\left(-\\cos(\\phi_v) \\sin(\\theta_v)+\\sqrt{(\\cos(\\phi_v) \\sin(\\theta_v))^2-1+2 \\frac{\\epsilon_l}{v_s^2}}\\right)$$"
   ]
  },
  {
   "cell_type": "markdown",
   "metadata": {},
   "source": [
    "Traducción entre variables de la integral anterior y del código:\n",
    "* $r$ -> r\n",
    "* $\\theta$ -> theta\n",
    "* $\\phi$ -> phi\n",
    "* $v$ -> v\n",
    "* $\\theta_v$ -> thv\n",
    "* $\\phi_v$ -> phiv\n",
    "* $M_s$ -> ms\n",
    "* $v_0(\\theta_v,\\phi_v)$ -> vlim\n",
    "* $v_s$ -> vsh\n",
    "* $\\epsilon_l$ -> limite_energia"
   ]
  },
  {
   "cell_type": "code",
   "execution_count": null,
   "metadata": {},
   "outputs": [],
   "source": [
    "# The code that follow is for testing porpouses."
   ]
  },
  {
   "cell_type": "code",
   "execution_count": null,
   "metadata": {},
   "outputs": [],
   "source": [
    "import numpy as np\n",
    "from pycuba import Vegas\n",
    "from ctypes import c_double\n",
    "\n",
    "def integrand(ndim, x, ncomp, f, userdata):\n",
    "    # Print statement to confirm the function is called\n",
    "    #print(\"Integrand called\")\n",
    "\n",
    "    # Number of dimensions\n",
    "    n = ndim.contents.value\n",
    "\n",
    "    # Integration variables\n",
    "    y = x[0:n]\n",
    "\n",
    "    # For demonstration, compute a simple function\n",
    "    # f(x) = exp(-sum(y))\n",
    "    integrand_value = np.exp(-np.sum(y))\n",
    "\n",
    "    # Store the result\n",
    "    f[0] = integrand_value\n",
    "\n",
    "    return 0  # Indicate success\n",
    "\n",
    "# Integration parameters\n",
    "ndim = 6\n",
    "ncomp = 1\n",
    "\n",
    "# Perform the integration\n",
    "res = Vegas(\n",
    "    integrand,\n",
    "    ndim=ndim,\n",
    "    ncomp=ncomp,\n",
    "    epsrel=1e-3\n",
    ")\n",
    "\n",
    "print(f\"Result: {res['results'][0]['integral']}\")\n",
    "print(f\"Estimated Error: {res['results'][0]['error']}\")\n",
    "#print(res)"
   ]
  },
  {
   "cell_type": "code",
   "execution_count": null,
   "metadata": {},
   "outputs": [],
   "source": [
    "import numpy as np\n",
    "from pycuba import Vegas\n",
    "from ctypes import c_double\n",
    "import logging\n",
    "import multiprocessing\n",
    "\n",
    "# Configure logging at the module level\n",
    "logging.basicConfig(\n",
    "    level=logging.INFO,\n",
    "    format='%(process)d-%(levelname)s-%(message)s'\n",
    ")\n",
    "\n",
    "\n",
    "# Constants\n",
    "roi = 1.0\n",
    "epsilon_l = 1.0\n",
    "v_s = 1.0\n",
    "M_s_value = 10**10.\n",
    "\n",
    "def v0(theta_v, phi_v):\n",
    "    cos_phi_v = np.cos(phi_v)\n",
    "    sin_theta_v = np.sin(theta_v)\n",
    "    term1 = -cos_phi_v * sin_theta_v\n",
    "    term2_sqrt_arg = (cos_phi_v * sin_theta_v)**2 - 1 + 2 * epsilon_l / v_s**2\n",
    "    term2_sqrt_arg = max(term2_sqrt_arg, 0.0)\n",
    "    term2 = np.sqrt(term2_sqrt_arg)\n",
    "    return v_s * (term1 + term2)\n",
    "\n",
    "def G1(r, theta, phi, v, theta_v, phi_v, M_s):\n",
    "    return np.exp(-r / M_s) * np.sin(v)\n",
    "\n",
    "def integrand(ndim, x, ncomp, f, userdata):\n",
    "    try:\n",
    "        logging.info(\"Integrand called\")\n",
    "        # Your integrand computation\n",
    "        f[0] = 1.0  # Example value\n",
    "        return 0\n",
    "    except Exception as e:\n",
    "        logging.error(f\"Exception in integrand: {e}\")\n",
    "        # Optionally, print the exception to the console\n",
    "        print(f\"Exception in integrand: {e}\")\n",
    "        return -1  # Indicate failure\n",
    "\n",
    "\n",
    "\n",
    "if __name__ == '__main__':\n",
    "    M_s_c = c_double(M_s_value)\n",
    "\n",
    "    res = Vegas(\n",
    "        integrand,\n",
    "        ndim=6,\n",
    "        ncomp=1,\n",
    "        epsrel=1e-3,\n",
    "        verbose=2\n",
    "    )\n",
    "    print(f\"Result:\", res)\n",
    "    "
   ]
  },
  {
   "cell_type": "code",
   "execution_count": null,
   "metadata": {},
   "outputs": [],
   "source": [
    "import numpy as np\n",
    "from pycuba import Vegas\n",
    "import ctypes\n",
    "import time\n",
    "\n",
    "# Constants\n",
    "roi = 1.0\n",
    "epsilon_l = 1.0\n",
    "v_s = 1.0\n",
    "M_s_value = 1e10  # Mass value\n",
    "\n",
    "def v0(theta_v, phi_v):\n",
    "    cos_phi_v = np.cos(phi_v)\n",
    "    sin_theta_v = np.sin(theta_v)\n",
    "    term1 = -cos_phi_v * sin_theta_v\n",
    "    term2_sqrt_arg = (cos_phi_v * sin_theta_v)**2 - 1 + 2 * epsilon_l / v_s**2\n",
    "    term2_sqrt_arg = max(term2_sqrt_arg, 0.0)\n",
    "    term2 = np.sqrt(term2_sqrt_arg)\n",
    "    return v_s * (term1 + term2)\n",
    "\n",
    "def G1(r, theta, phi, v, theta_v, phi_v, M_s):\n",
    "    return np.exp(-r / M_s) * np.sin(v)\n",
    "\n",
    "def integrand(ndim, x, ncomp, f, userdata):\n",
    "    try:\n",
    "        # Retrieve M_s_value from userdata\n",
    "        M_s = ctypes.cast(userdata, ctypes.POINTER(ctypes.py_object)).contents.value\n",
    "\n",
    "        # Proceed with your integrand computations using M_s\n",
    "        # For demonstration, we'll return a simple function involving M_s\n",
    "        f[0] = np.exp(-M_s * x[0])  # Example computation\n",
    "        return 0\n",
    "    except Exception as e:\n",
    "        print(f\"Exception in integrand: {e}\", flush=True)\n",
    "        return -1\n",
    "\n",
    "def main():\n",
    "    start_time = time.time()\n",
    "\n",
    "    # Wrap M_s_value and pass as userdata\n",
    "    userdata = ctypes.cast(ctypes.pointer(ctypes.py_object(M_s_value)), ctypes.c_void_p)\n",
    "\n",
    "    res = Vegas(\n",
    "        integrand,\n",
    "        ndim=6,\n",
    "        ncomp=1,\n",
    "        epsrel=1e-2,  # Loosen tolerances for testing\n",
    "        epsabs=1e-6,\n",
    "        verbose=2,\n",
    "        seed=0,\n",
    "        userdata=userdata  # Pass the wrapped userdata\n",
    "    )\n",
    "\n",
    "    elapsed_time = time.time() - start_time\n",
    "    print(f\"Result: {res['result'][0]}, Estimated Error: {res['error'][0]}\")\n",
    "    print(f\"Elapsed time: {elapsed_time:.2f} seconds\")\n",
    "\n",
    "if __name__ == '__main__':\n",
    "    main()\n"
   ]
  },
  {
   "cell_type": "code",
   "execution_count": null,
   "metadata": {},
   "outputs": [],
   "source": []
  }
 ],
 "metadata": {
  "kernelspec": {
   "display_name": "Python 3 (ipykernel)",
   "language": "python",
   "name": "python3"
  },
  "language_info": {
   "codemirror_mode": {
    "name": "ipython",
    "version": 3
   },
   "file_extension": ".py",
   "mimetype": "text/x-python",
   "name": "python",
   "nbconvert_exporter": "python",
   "pygments_lexer": "ipython3",
   "version": "3.9.13"
  }
 },
 "nbformat": 4,
 "nbformat_minor": 4
}
